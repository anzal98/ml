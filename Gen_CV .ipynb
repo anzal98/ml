{
 "cells": [
  {
   "cell_type": "code",
   "execution_count": 8,
   "id": "3461fecc-4ced-4f9f-a661-066cbfd63aa1",
   "metadata": {},
   "outputs": [],
   "source": [
    "# installing necessery librerys \n",
    "#pip install fpdf"
   ]
  },
  {
   "cell_type": "markdown",
   "id": "8fc1584f-3d0b-4fde-bab2-92629e6a16c7",
   "metadata": {},
   "source": [
    "Importing the Library"
   ]
  },
  {
   "cell_type": "code",
   "execution_count": 16,
   "id": "5b6de795-7c1f-45ad-8200-5530346efaa2",
   "metadata": {},
   "outputs": [],
   "source": [
    "from fpdf import FPDF\n"
   ]
  },
  {
   "cell_type": "markdown",
   "id": "2ef2b9b7-b1c3-4b68-9fb0-4877036f2579",
   "metadata": {},
   "source": [
    "Initializing the PDF and Setting Margins"
   ]
  },
  {
   "cell_type": "code",
   "execution_count": 19,
   "id": "a8e6e3b3-1a17-45b6-897d-7ceff19f37dc",
   "metadata": {},
   "outputs": [],
   "source": [
    "# Initialize the PDF\n",
    "pdf = FPDF(orientation='P', unit='cm', format='A4')\n",
    "pdf.set_auto_page_break(auto=True, margin=2.54)\n",
    "pdf.add_page()\n",
    "\n",
    "# Set the margins\n",
    "pdf.set_margins(left=2.54, top=2.54, right=2.54)\n"
   ]
  },
  {
   "cell_type": "markdown",
   "id": "f6abcf56-3bfd-4deb-8e8b-7357e7893bc0",
   "metadata": {},
   "source": [
    "Setting Up Fonts and Title"
   ]
  },
  {
   "cell_type": "code",
   "execution_count": 25,
   "id": "f29b5657-572f-4a9f-aa90-95ccef4ba4b1",
   "metadata": {},
   "outputs": [],
   "source": [
    "# Set up fonts and colors\n",
    "pdf.set_font(\"Arial\", 'B', 16)\n",
    "pdf.set_text_color(128, 0, 128)  # Purple color for name\n"
   ]
  },
  {
   "cell_type": "markdown",
   "id": "6bb976cf-fb5c-40ae-9370-4cabc9f19483",
   "metadata": {},
   "source": [
    "Cell 4: Adding Title and Subtitle"
   ]
  },
  {
   "cell_type": "code",
   "execution_count": 28,
   "id": "9cb1629e-37c4-40b4-96bb-7164569fc1dc",
   "metadata": {},
   "outputs": [],
   "source": [
    "# Title\n",
    "pdf.cell(0, 1, \"Vyshak M\", ln=True, align='C')\n",
    "\n",
    "# Subtitle\n",
    "pdf.set_font(\"Arial\", '', 12)\n",
    "pdf.set_text_color(0, 0, 0)  # Black color for content\n",
    "pdf.cell(0, 1, \"Certified Medical Coder\", ln=True, align='C')\n"
   ]
  },
  {
   "cell_type": "markdown",
   "id": "8101f860-3c5b-4d76-b005-09a9476d790b",
   "metadata": {},
   "source": [
    "Cell 5: Adding Contact Information"
   ]
  },
  {
   "cell_type": "code",
   "execution_count": 31,
   "id": "51e3f1ba-c335-4e86-a42e-7df76310b8c7",
   "metadata": {},
   "outputs": [],
   "source": [
    "# Contact Information\n",
    "pdf.set_font(\"Arial\", '', 10)\n",
    "pdf.cell(0, 1, \"Email: vyshak466@gmail.com | Phone: +91 8086752466\", ln=True, align='C')\n",
    "pdf.cell(0, 1, \"Address: Mankunnummal (H), Thambanangadi, Pandikkad (P.O), Malappuram, Kerala, Pin: 676521\", ln=True, align='C')\n",
    "\n",
    "# Draw line under contact information\n",
    "pdf.line(2.54, 5.54, 18.54, 5.54)\n"
   ]
  },
  {
   "cell_type": "markdown",
   "id": "910fd704-eb79-4e11-9b93-3892735b7b13",
   "metadata": {},
   "source": [
    "Cell 6: Adding Professional Summary"
   ]
  },
  {
   "cell_type": "code",
   "execution_count": 34,
   "id": "845e9168-e2d1-48c5-b011-1e95ec1df627",
   "metadata": {},
   "outputs": [
    {
     "data": {
      "text/plain": [
       "[]"
      ]
     },
     "execution_count": 34,
     "metadata": {},
     "output_type": "execute_result"
    }
   ],
   "source": [
    "# Section: Professional Summary\n",
    "pdf.ln(1)  # Add space before heading\n",
    "pdf.set_font(\"Arial\", 'B', 12)\n",
    "pdf.cell(0, 0.8, \"Professional Summary\", ln=True)\n",
    "\n",
    "# Draw line above Professional Summary\n",
    "pdf.line(2.54, pdf.get_y() - 0.2, 18.54, pdf.get_y() - 0.2)\n",
    "\n",
    "pdf.set_font(\"Arial\", '', 10)\n",
    "pdf.multi_cell(0, 0.8, \"Certified Medical Coder with over 1 year of experience in accurately coding patient records using ICD-10-CM, CPT, and HCPC guidelines. Strong analytical skills, with a proven track record in optimizing revenue cycle management and ensuring compliance with healthcare regulations. Adept at working in a team-oriented environment and skilled in medical terminology, anatomy, and physiology. Committed to maintaining high standards of accuracy and efficiency.\")\n"
   ]
  },
  {
   "cell_type": "markdown",
   "id": "8ff5babb-1a94-4725-b88c-4ceed1a494ce",
   "metadata": {},
   "source": [
    "Cell 7: Adding Work Experience\n"
   ]
  },
  {
   "cell_type": "code",
   "execution_count": 39,
   "id": "8330e3b7-2b44-4f8a-9894-bb1d3f1b1e0c",
   "metadata": {},
   "outputs": [],
   "source": [
    "# Section: Work Experience\n",
    "pdf.ln(1)  # Add space before heading\n",
    "pdf.set_font(\"Arial\", 'B', 12)\n",
    "pdf.cell(0, 0.8, \"Work Experience\", ln=True)\n",
    "\n",
    "# Draw line above and below Work Experience\n",
    "pdf.line(2.54, pdf.get_y() - 0.2, 18.54, pdf.get_y() - 0.2)\n",
    "\n",
    "pdf.set_font(\"Arial\", 'B', 10)\n",
    "pdf.cell(0, 0.8, \"Medical Coder\", ln=True)\n",
    "\n",
    "pdf.set_font(\"Arial\", 'I', 10)\n",
    "pdf.cell(0, 0.8, \"Optimum, Bangalore | April 2022 - April 2023\", ln=True)\n",
    "\n",
    "pdf.set_font(\"Arial\", '', 10)\n",
    "pdf.multi_cell(0, 0.8, \"- Assigned ICD-10-CM, CPT, and HCPC codes to patient records with 98% accuracy in audits.\\n\"\n",
    "\"- Collaborated with healthcare professionals to clarify documentation, reducing coding errors by 15%.\\n\"\n",
    "\"- Contributed to developing coding policies, increasing productivity by 10%.\\n\"\n",
    "\"- Trained new coding staff, reducing onboarding time by 20%.\")\n",
    "\n",
    "pdf.line(2.54, pdf.get_y() + 0.2, 18.54, pdf.get_y() + 0.2)\n"
   ]
  },
  {
   "cell_type": "markdown",
   "id": "5b30cd8f-e27e-4986-a293-ff4ef5b85842",
   "metadata": {},
   "source": [
    "Cell 8: Adding Education Section"
   ]
  },
  {
   "cell_type": "code",
   "execution_count": 42,
   "id": "01a60ab7-7372-4fa1-bc69-6cc32f101e48",
   "metadata": {},
   "outputs": [],
   "source": [
    "# Section: Education\n",
    "pdf.ln(1)  # Add space before heading\n",
    "pdf.set_font(\"Arial\", 'B', 12)\n",
    "pdf.cell(0, 0.8, \"Education\", ln=True)\n",
    "\n",
    "# Draw line above and below Education\n",
    "pdf.line(2.54, pdf.get_y() - 0.2, 18.54, pdf.get_y() - 0.2)\n",
    "\n",
    "pdf.set_font(\"Arial\", '', 10)\n",
    "pdf.multi_cell(0, 0.8, \"Bachelor of Arts in English\\nCalicut University | March 2020\\n\\n\"\n",
    "\"Certification in Medical Coding and Billing\\nCardea Health Care for Medical Coding and Billing Academy, Perinthalmanna\\n\"\n",
    "\"Completed intensive training on ICD-10-CM, CPT, and HCPC coding.\\nAAPC Member ID: 01972689\")\n",
    "\n",
    "pdf.line(2.54, pdf.get_y() + 0.2, 18.54, pdf.get_y() + 0.2)\n"
   ]
  },
  {
   "cell_type": "markdown",
   "id": "cb7a0a03-4d26-4411-8bf7-7fe3fb37e78a",
   "metadata": {},
   "source": [
    "Cell 9: Adding Technical Skills Section"
   ]
  },
  {
   "cell_type": "code",
   "execution_count": 45,
   "id": "87ef6b6d-00d1-4675-9b24-a20538c0b566",
   "metadata": {},
   "outputs": [],
   "source": [
    "# Section: Technical Skills\n",
    "pdf.ln(1)  # Add space before heading\n",
    "pdf.set_font(\"Arial\", 'B', 12)\n",
    "pdf.cell(0, 0.8, \"Technical Skills\", ln=True)\n",
    "\n",
    "# Draw line above and below Technical Skills\n",
    "pdf.line(2.54, pdf.get_y() - 0.2, 18.54, pdf.get_y() - 0.2)\n",
    "\n",
    "pdf.set_font(\"Arial\", '', 10)\n",
    "pdf.multi_cell(0, 0.8, \"- Medical Coding: ICD-10-CM, CPT, HCPC\\n- Medical Terminology: Anatomy, Physiology, Disease Processes\\n\"\n",
    "\"- Software Proficiency: EHR Systems, Microsoft Office\\n- Compliance: HIPAA, CMS Regulations\")\n",
    "\n",
    "pdf.line(2.54, pdf.get_y() + 0.2, 18.54, pdf.get_y() + 0.2)\n"
   ]
  },
  {
   "cell_type": "markdown",
   "id": "8ea3836c-7da6-4cdc-ab78-1649abaeeeab",
   "metadata": {},
   "source": [
    "Cell 10: Adding Certifications and Professional Development Sections"
   ]
  },
  {
   "cell_type": "code",
   "execution_count": 48,
   "id": "ccdbc89c-fb4c-4fca-bcb9-b2e5c6198461",
   "metadata": {},
   "outputs": [],
   "source": [
    "# Section: Certifications and Professional Development\n",
    "pdf.ln(1)  # Add space before heading\n",
    "pdf.set_font(\"Arial\", 'B', 12)\n",
    "pdf.cell(0, 0.8, \"Certifications\", ln=True)\n",
    "\n",
    "# Draw line above Certifications and below Professional Development\n",
    "pdf.line(2.54, pdf.get_y() - 0.2, 18.54, pdf.get_y() - 0.2)\n",
    "\n",
    "pdf.set_font(\"Arial\", '', 10)\n",
    "pdf.multi_cell(0, 0.8, \"Certified Professional Coder (CPC) - AAPC\\nMember ID: 01972689\")\n",
    "\n",
    "pdf.set_font(\"Arial\", 'B', 12)\n",
    "pdf.cell(0, 0.8, \"Professional Development\", ln=True)\n",
    "\n",
    "pdf.set_font(\"Arial\", '', 10)\n",
    "pdf.multi_cell(0, 0.8, \"Completed workshops on 'Advanced Medical Coding Techniques' and 'Revenue Cycle Optimization.'\\nOngoing education in healthcare compliance and coding updates.\")\n",
    "\n",
    "pdf.line(2.54, pdf.get_y() + 0.2, 18.54, pdf.get_y() + 0.2)\n"
   ]
  },
  {
   "cell_type": "markdown",
   "id": "a46172c8-5070-43f0-9a44-ecd525bb81ec",
   "metadata": {},
   "source": [
    "Cell 11: Adding Personal Details Section"
   ]
  },
  {
   "cell_type": "code",
   "execution_count": 51,
   "id": "e76bb74d-6853-46fd-afc7-7f773b3a0267",
   "metadata": {},
   "outputs": [],
   "source": [
    "# Section: Personal Details\n",
    "pdf.ln(1)  # Add space before heading\n",
    "pdf.set_font(\"Arial\", 'B', 12)\n",
    "pdf.cell(0, 0.8, \"Personal Details\", ln=True)\n",
    "\n",
    "# Draw line above and below Personal Details\n",
    "pdf.line(2.54, pdf.get_y() - 0.2, 18.54, pdf.get_y() - 0.2)\n",
    "\n",
    "pdf.set_font(\"Arial\", '', 10)\n",
    "pdf.multi_cell(0, 0.8, \"Date of Birth: October 9, 1997\\nFather's Name: Premadasan M\\nSex: Male\\nNationality: Indian\\nLanguages Known: English, Malayalam, Tamil\")\n",
    "\n",
    "pdf.line(2.54, pdf.get_y() + 0.2, 18.54, pdf.get_y() + 0.2)\n"
   ]
  },
  {
   "cell_type": "markdown",
   "id": "7ff2235f-f54e-46f5-bd72-55395533c508",
   "metadata": {},
   "source": [
    "Cell 12: Adding Declaration Section"
   ]
  },
  {
   "cell_type": "code",
   "execution_count": 54,
   "id": "100a2f63-753a-4acd-a601-416dd14737ba",
   "metadata": {},
   "outputs": [],
   "source": [
    "# Section: Declaration\n",
    "pdf.ln(1)  # Add space before heading\n",
    "pdf.set_font(\"Arial\", 'B', 12)\n",
    "pdf.cell(0, 0.8, \"Declaration\", ln=True)\n",
    "\n",
    "# Draw line above and below Declaration\n",
    "pdf.line(2.54, pdf.get_y() - 0.2, 18.54, pdf.get_y() - 0.2)\n",
    "\n",
    "pdf.set_font(\"Arial\", '', 10)\n",
    "pdf.multi_cell(0, 0.8, \"I hereby declare that all the information provided is true to the best of my knowledge. I am confident in my ability to contribute effectively to any team and handle tasks with diligence and professionalism.\")\n",
    "\n",
    "pdf.line(2.54, pdf.get_y() + 0.2, 18.54, pdf.get_y() + 0.2)\n"
   ]
  },
  {
   "cell_type": "markdown",
   "id": "460f5243-efc7-4895-b9b3-8d0da4902654",
   "metadata": {},
   "source": [
    "Cell 13: Adding References Section"
   ]
  },
  {
   "cell_type": "code",
   "execution_count": 57,
   "id": "49406fc3-0e57-46ec-8e58-b3fd0f218a20",
   "metadata": {},
   "outputs": [
    {
     "data": {
      "text/plain": [
       "[]"
      ]
     },
     "execution_count": 57,
     "metadata": {},
     "output_type": "execute_result"
    }
   ],
   "source": [
    "# Section: References\n",
    "pdf.set_font(\"Arial\", 'B', 12)\n",
    "pdf.cell(0, 0.8, \"References\", ln=True)\n",
    "\n",
    "# Draw line above and below References\n",
    "pdf.line(2.54, pdf.get_y() - 0.2, 18.54, pdf.get_y() - 0.2)\n",
    "\n",
    "pdf.set_font(\"Arial\", '', 10)\n",
    "pdf.multi_cell(0, 0.8, \"Available upon request.\")\n"
   ]
  },
  {
   "cell_type": "code",
   "execution_count": 59,
   "id": "725568d2-eff9-4c82-95f9-67ad6befbb5c",
   "metadata": {},
   "outputs": [
    {
     "name": "stdout",
     "output_type": "stream",
     "text": [
      "PDF saved successfully to C:\\Users\\tetra\\Downloads\\Vyshak_M_Resume.pdf\n"
     ]
    }
   ],
   "source": [
    "# Save the PDF to the specified path\n",
    "output_path = 'C:\\\\Users\\\\tetra\\\\Downloads\\\\Vyshak_M_Resume.pdf'\n",
    "pdf.output(output_path)\n",
    "\n",
    "print(f\"PDF saved successfully to {output_path}\")\n"
   ]
  },
  {
   "cell_type": "code",
   "execution_count": null,
   "id": "f0206fab-a923-448a-b4a9-b136c000b02d",
   "metadata": {},
   "outputs": [],
   "source": []
  }
 ],
 "metadata": {
  "kernelspec": {
   "display_name": "Python 3 (ipykernel)",
   "language": "python",
   "name": "python3"
  },
  "language_info": {
   "codemirror_mode": {
    "name": "ipython",
    "version": 3
   },
   "file_extension": ".py",
   "mimetype": "text/x-python",
   "name": "python",
   "nbconvert_exporter": "python",
   "pygments_lexer": "ipython3",
   "version": "3.11.7"
  }
 },
 "nbformat": 4,
 "nbformat_minor": 5
}
